{
 "cells": [
  {
   "cell_type": "markdown",
   "metadata": {},
   "source": [
    "# MP Expenses Project v2.0\n",
    "by Darren Christie \n",
    "Created October 2020\n",
    "\n",
    "This is a project notebook that looks at MP Expenses. This version of the project uses a sqlite3 database instead of\n",
    "a csv file.\n",
    "The notebook compares a single MP (which will probably be your local MP) with the expenses of all MPs."
   ]
  },
  {
   "cell_type": "markdown",
   "metadata": {},
   "source": [
    "## The Data\n",
    "Data has been obtained from the [IPSA website](https://www.theipsa.org.uk/mp-costs/annual-publication/) starting from 2010/2011 csv files were downloaded for individual claims for each reported year. The datasets were downloaded 6/6/2020.\n",
    "These csv files can be found in the data/raw folder.\n",
    "\n",
    "The following awk command was used to merge the individual csv files into a combined csv file with a single header.\n",
    "\n",
    "`awk '(NR == 1) || (FNR > 1)' Individual*.csv > combined_claims.csv`\n",
    "\n",
    "FNR represents the number of the processed record in a single file. NR represents it globally. Therefore the first line is accepted and the rest are ignored.\n",
    "I can not take credit for the above awk command. I got it from the StackExchange website (accessed on 14/5/2020) and was an answer provided by a Marek Grac.\n",
    "\n",
    "The combined csv file can be found in the data/processed folder.\n",
    "This combined csv file was then imported into a sqlite3 database."
   ]
  },
  {
   "cell_type": "code",
   "execution_count": 1,
   "metadata": {},
   "outputs": [],
   "source": [
    "# our standard import for our projects\n",
    "import warnings\n",
    "warnings.simplefilter('ignore', FutureWarning)\n",
    "\n",
    "import matplotlib\n",
    "import matplotlib.pyplot as plot\n",
    "matplotlib.rcParams['axes.grid'] = True # show gridlines by default\n",
    "\n",
    "# tells Jupyter to display all charts inside this notebook, immediately after each call to plot()\n",
    "%matplotlib inline\n",
    "\n",
    "import datetime as dt\n",
    "import numpy as np\n",
    "import sqlite3 as lite\n",
    "\n",
    "from pandas import *"
   ]
  },
  {
   "cell_type": "code",
   "execution_count": 2,
   "metadata": {},
   "outputs": [],
   "source": [
    "# suppress scientific notation globally\n",
    "# taken from https://stackoverflow.com/questions/21137150/format-suppress-scientific-notation-from-python-pandas-aggregation-results\n",
    "pandas.options.display.float_format = '{:.2f}'.format"
   ]
  },
  {
   "cell_type": "markdown",
   "metadata": {},
   "source": [
    "### function definitions used elsewhere in the notebook"
   ]
  },
  {
   "cell_type": "code",
   "execution_count": 3,
   "metadata": {},
   "outputs": [],
   "source": [
    "# a function to calculate the range\n",
    "# this works with a groupby function call\n",
    "# a modified version of code found at http://www.pybloggers.com/2018/12/python-pandas-groupby-tutorial/\n",
    "def stat_range(df):\n",
    "    rang = df.max() - df.min()\n",
    "    \n",
    "    return rang"
   ]
  },
  {
   "cell_type": "markdown",
   "metadata": {},
   "source": [
    "## Clean up data\n",
    "This step has been moved further down once we have got the results back from the sql"
   ]
  },
  {
   "cell_type": "markdown",
   "metadata": {},
   "source": [
    "## Assumptions about the data\n",
    "* that the MPs expenses year follows a tax year and runs from 1st April - 31st March.\n",
    "* that -ve values in the Amount Paid and Claimed columns means that the MP has had to pay money back. This is currently a query I have raised with the IPSA via social media to confirm one way or the other."
   ]
  },
  {
   "cell_type": "markdown",
   "metadata": {},
   "source": [
    "## Processing"
   ]
  },
  {
   "cell_type": "markdown",
   "metadata": {},
   "source": [
    "### Set the MP we are looking at\n",
    "The MP that we are interested in investigating their expenses.\n",
    "If you are unsure who your MP is you can find out at [FindYourMP](https://members.parliament.uk/FindYourMP). Enter your post code and it will tell you who you MP is.\n",
    "**NOTE:** The name of your MP needs to match exactly as it appears in the csv file/dataframe. Otherwise it will not find anything."
   ]
  },
  {
   "cell_type": "code",
   "execution_count": 4,
   "metadata": {},
   "outputs": [],
   "source": [
    "LOCALMP = \"Stephen Barclay\""
   ]
  },
  {
   "cell_type": "markdown",
   "metadata": {},
   "source": [
    "### Set some other constants that we will use throughout the notebook"
   ]
  },
  {
   "cell_type": "code",
   "execution_count": 5,
   "metadata": {},
   "outputs": [],
   "source": [
    "STARTTAXYEAR = 2010\n",
    "ENDTAXYEAR = 2020"
   ]
  },
  {
   "cell_type": "markdown",
   "metadata": {},
   "source": [
    "### Create the connection to our database"
   ]
  },
  {
   "cell_type": "code",
   "execution_count": 6,
   "metadata": {},
   "outputs": [],
   "source": [
    "sqlCon = lite.connect('data/processed/mpexpenses.db')"
   ]
  },
  {
   "cell_type": "markdown",
   "metadata": {},
   "source": [
    "### Build our sql query to retrieve all of the local MPs data from the database"
   ]
  },
  {
   "cell_type": "code",
   "execution_count": 7,
   "metadata": {},
   "outputs": [
    {
     "name": "stdout",
     "output_type": "stream",
     "text": [
      "select \"Date\",\"Category\",\"Expense Type\",\"Amount Paid\" from expenses where \"MP's Name\" = \"Stephen Barclay\"\n"
     ]
    }
   ],
   "source": [
    "sqlQuery = f\"select \\\"Date\\\",\\\"Category\\\",\\\"Expense Type\\\",\\\"Amount Paid\\\" from expenses where \\\"MP's Name\\\" = \\\"{LOCALMP}\\\"\"\n",
    "print (sqlQuery)"
   ]
  },
  {
   "cell_type": "markdown",
   "metadata": {},
   "source": [
    "### Execute our query and get the results into a dataframe"
   ]
  },
  {
   "cell_type": "code",
   "execution_count": 8,
   "metadata": {},
   "outputs": [],
   "source": [
    "df = pandas.read_sql_query(sqlQuery,sqlCon)"
   ]
  },
  {
   "cell_type": "markdown",
   "metadata": {},
   "source": [
    "### Set the data type of a couple of the columns and create an index for the dataframe"
   ]
  },
  {
   "cell_type": "code",
   "execution_count": 9,
   "metadata": {},
   "outputs": [],
   "source": [
    "# correct column types\n",
    "df['Date'] = to_datetime(df['Date'])\n",
    "df['Amount Paid'] = to_numeric(df['Amount Paid'])\n",
    "# set the Date column to our index\n",
    "df.index = df['Date']\n",
    "df = df.sort_index()"
   ]
  },
  {
   "cell_type": "code",
   "execution_count": 10,
   "metadata": {},
   "outputs": [
    {
     "data": {
      "text/html": [
       "<div>\n",
       "<style scoped>\n",
       "    .dataframe tbody tr th:only-of-type {\n",
       "        vertical-align: middle;\n",
       "    }\n",
       "\n",
       "    .dataframe tbody tr th {\n",
       "        vertical-align: top;\n",
       "    }\n",
       "\n",
       "    .dataframe thead th {\n",
       "        text-align: right;\n",
       "    }\n",
       "</style>\n",
       "<table border=\"1\" class=\"dataframe\">\n",
       "  <thead>\n",
       "    <tr style=\"text-align: right;\">\n",
       "      <th></th>\n",
       "      <th>Date</th>\n",
       "      <th>Category</th>\n",
       "      <th>Expense Type</th>\n",
       "      <th>Amount Paid</th>\n",
       "    </tr>\n",
       "    <tr>\n",
       "      <th>Date</th>\n",
       "      <th></th>\n",
       "      <th></th>\n",
       "      <th></th>\n",
       "      <th></th>\n",
       "    </tr>\n",
       "  </thead>\n",
       "  <tbody>\n",
       "    <tr>\n",
       "      <th>2010-01-09</th>\n",
       "      <td>2010-01-09</td>\n",
       "      <td>MP Travel</td>\n",
       "      <td>Own Car MP</td>\n",
       "      <td>3.08</td>\n",
       "    </tr>\n",
       "    <tr>\n",
       "      <th>2010-01-09</th>\n",
       "      <td>2010-01-09</td>\n",
       "      <td>MP Travel</td>\n",
       "      <td>Own Car MP</td>\n",
       "      <td>39.28</td>\n",
       "    </tr>\n",
       "    <tr>\n",
       "      <th>2010-01-09</th>\n",
       "      <td>2010-01-09</td>\n",
       "      <td>MP Travel</td>\n",
       "      <td>Own Car MP</td>\n",
       "      <td>36.48</td>\n",
       "    </tr>\n",
       "    <tr>\n",
       "      <th>2010-01-09</th>\n",
       "      <td>2010-01-09</td>\n",
       "      <td>Miscellaneous Expenses</td>\n",
       "      <td>Contingency</td>\n",
       "      <td>204.16</td>\n",
       "    </tr>\n",
       "    <tr>\n",
       "      <th>2010-01-09</th>\n",
       "      <td>2010-01-09</td>\n",
       "      <td>Accommodation</td>\n",
       "      <td>Accommodation Rent</td>\n",
       "      <td>1450.00</td>\n",
       "    </tr>\n",
       "    <tr>\n",
       "      <th>...</th>\n",
       "      <td>...</td>\n",
       "      <td>...</td>\n",
       "      <td>...</td>\n",
       "      <td>...</td>\n",
       "    </tr>\n",
       "    <tr>\n",
       "      <th>2019-12-03</th>\n",
       "      <td>2019-12-03</td>\n",
       "      <td>Staffing</td>\n",
       "      <td>Own Vehicle Car Volunteer</td>\n",
       "      <td>4.86</td>\n",
       "    </tr>\n",
       "    <tr>\n",
       "      <th>2019-12-03</th>\n",
       "      <td>2019-12-03</td>\n",
       "      <td>Staffing</td>\n",
       "      <td>Own Vehicle Car Volunteer</td>\n",
       "      <td>4.86</td>\n",
       "    </tr>\n",
       "    <tr>\n",
       "      <th>2019-12-08</th>\n",
       "      <td>2019-12-08</td>\n",
       "      <td>Office Costs</td>\n",
       "      <td>Equipment - purchase</td>\n",
       "      <td>8.90</td>\n",
       "    </tr>\n",
       "    <tr>\n",
       "      <th>2019-12-08</th>\n",
       "      <td>2019-12-08</td>\n",
       "      <td>Office Costs</td>\n",
       "      <td>Stationery &amp; printing</td>\n",
       "      <td>98.81</td>\n",
       "    </tr>\n",
       "    <tr>\n",
       "      <th>2019-12-08</th>\n",
       "      <td>2019-12-08</td>\n",
       "      <td>Office Costs</td>\n",
       "      <td>Stationery &amp; printing</td>\n",
       "      <td>22.50</td>\n",
       "    </tr>\n",
       "  </tbody>\n",
       "</table>\n",
       "<p>4039 rows × 4 columns</p>\n",
       "</div>"
      ],
      "text/plain": [
       "                 Date                Category               Expense Type  \\\n",
       "Date                                                                       \n",
       "2010-01-09 2010-01-09               MP Travel                 Own Car MP   \n",
       "2010-01-09 2010-01-09               MP Travel                 Own Car MP   \n",
       "2010-01-09 2010-01-09               MP Travel                 Own Car MP   \n",
       "2010-01-09 2010-01-09  Miscellaneous Expenses                Contingency   \n",
       "2010-01-09 2010-01-09           Accommodation         Accommodation Rent   \n",
       "...               ...                     ...                        ...   \n",
       "2019-12-03 2019-12-03                Staffing  Own Vehicle Car Volunteer   \n",
       "2019-12-03 2019-12-03                Staffing  Own Vehicle Car Volunteer   \n",
       "2019-12-08 2019-12-08            Office Costs       Equipment - purchase   \n",
       "2019-12-08 2019-12-08            Office Costs      Stationery & printing   \n",
       "2019-12-08 2019-12-08            Office Costs      Stationery & printing   \n",
       "\n",
       "            Amount Paid  \n",
       "Date                     \n",
       "2010-01-09         3.08  \n",
       "2010-01-09        39.28  \n",
       "2010-01-09        36.48  \n",
       "2010-01-09       204.16  \n",
       "2010-01-09      1450.00  \n",
       "...                 ...  \n",
       "2019-12-03         4.86  \n",
       "2019-12-03         4.86  \n",
       "2019-12-08         8.90  \n",
       "2019-12-08        98.81  \n",
       "2019-12-08        22.50  \n",
       "\n",
       "[4039 rows x 4 columns]"
      ]
     },
     "execution_count": 10,
     "metadata": {},
     "output_type": "execute_result"
    }
   ],
   "source": [
    "# These next line of code basically removes -ve values, which I have assumed means that the MP has repaid money \n",
    "# to the IPSA.\n",
    "newdf = df[df['Amount Paid'] > 0]\n",
    "newdf"
   ]
  },
  {
   "cell_type": "markdown",
   "metadata": {},
   "source": [
    "### Start to produce some analysis based on the data retrieved"
   ]
  },
  {
   "cell_type": "markdown",
   "metadata": {},
   "source": [
    "### Total expenses claimed for all time"
   ]
  },
  {
   "cell_type": "code",
   "execution_count": 11,
   "metadata": {},
   "outputs": [
    {
     "name": "stdout",
     "output_type": "stream",
     "text": [
      "Between 1st April 2010 and 31st March 2020 MP Stephen Barclay claimed £1445649.29 in expenses.\n"
     ]
    }
   ],
   "source": [
    "print (f\"Between 1st April {STARTTAXYEAR} and 31st March {ENDTAXYEAR} MP {LOCALMP} claimed £{newdf['Amount Paid'].sum()} in expenses.\")"
   ]
  },
  {
   "cell_type": "code",
   "execution_count": 12,
   "metadata": {},
   "outputs": [
    {
     "name": "stdout",
     "output_type": "stream",
     "text": [
      "This is a breakdown of that figure by category claimed between those dates.\n"
     ]
    },
    {
     "data": {
      "text/plain": [
       "Category\n",
       "Accommodation               146634.07\n",
       "Dependant Travel              3051.99\n",
       "MP Travel                    70831.82\n",
       "Miscellaneous Expenses        2910.68\n",
       "Office Costs                201886.41\n",
       "Office Costs Expenditure       837.60\n",
       "Staff Travel                 12307.91\n",
       "Staffing                   1007188.81\n",
       "Name: Amount Paid, dtype: float64"
      ]
     },
     "execution_count": 12,
     "metadata": {},
     "output_type": "execute_result"
    }
   ],
   "source": [
    "print (\"This is a breakdown of that figure by category claimed between those dates.\")\n",
    "newdf.groupby('Category')['Amount Paid'].sum()"
   ]
  },
  {
   "cell_type": "code",
   "execution_count": 13,
   "metadata": {},
   "outputs": [],
   "source": [
    "localMPYearlyDetail = DataFrame()\n",
    "localMPYearlySummary = DataFrame()\n",
    "currTaxYear = STARTTAXYEAR\n",
    "\n",
    "# loop round and extract each tax years summary data at the two levels we are interested in\n",
    "for counter in range (0,(ENDTAXYEAR - STARTTAXYEAR)):\n",
    "    \n",
    "    # create our tax year index i.e. 2010/2011\n",
    "    tempIndex = str(currTaxYear)+'/'+str(currTaxYear+1)\n",
    "    \n",
    "    # extract the data from the dataframe that falls in the current tax year\n",
    "    tempDF = newdf.loc[dt.datetime(currTaxYear,4,1):dt.datetime(currTaxYear+1,3,31)]\n",
    "    \n",
    "    # generate our summary stats based on the category\n",
    "    yearlyCategorySummary = tempDF.groupby('Category')['Amount Paid'].agg(['sum','mean', 'median', 'max', 'min',stat_range,'std'])\n",
    "    yearlyCategorySummary['Tax Year'] = tempIndex # add the tax year as a column to the dataframe\n",
    "    localMPYearlySummary = localMPYearlySummary.append(yearlyCategorySummary) # append the stats we generated to the dataframe\n",
    "    \n",
    "    # generate our detailed stats based on the category and the expense type within eacg category\n",
    "    yearlyDetailSummary = tempDF.groupby(['Category','Expense Type'])['Amount Paid'].agg(['sum','mean', 'median', 'max', 'min',stat_range,'std'])\n",
    "    yearlyDetailSummary['Tax Year'] = tempIndex # add the tax year as a column to the dataframe\n",
    "    localMPYearlyDetail = localMPYearlyDetail.append(yearlyDetailSummary) # append the stats we generated to the dataframe\n",
    "    \n",
    "    currTaxYear += 1 # move to next tax year\n",
    "    \n",
    "\n",
    "# turn into a multiindex dataframe\n",
    "localMPYearlySummary.reset_index(level=0, inplace=True)\n",
    "#localMPYearlySummary.set_index(['Tax Year','Category'],inplace=True)\n",
    "localMPYearlySummary.set_index(['Category','Tax Year'],inplace=True)\n",
    "localMPYearlySummary.sort_index(inplace=True)\n",
    "\n",
    "localMPYearlyDetail.reset_index(level=[0,1], inplace=True)\n",
    "localMPYearlyDetail.set_index(['Category','Expense Type','Tax Year'],inplace=True)\n",
    "localMPYearlyDetail.sort_index(inplace=True)\n",
    "\n",
    "localMPYearlyDetail = localMPYearlyDetail.round(decimals=2) # round to 2 decimal places\n",
    "localMPYearlySummary = localMPYearlySummary.round(decimals=2) # round to 2 decimal places"
   ]
  },
  {
   "cell_type": "code",
   "execution_count": 14,
   "metadata": {},
   "outputs": [
    {
     "data": {
      "text/html": [
       "<div>\n",
       "<style scoped>\n",
       "    .dataframe tbody tr th:only-of-type {\n",
       "        vertical-align: middle;\n",
       "    }\n",
       "\n",
       "    .dataframe tbody tr th {\n",
       "        vertical-align: top;\n",
       "    }\n",
       "\n",
       "    .dataframe thead th {\n",
       "        text-align: right;\n",
       "    }\n",
       "</style>\n",
       "<table border=\"1\" class=\"dataframe\">\n",
       "  <thead>\n",
       "    <tr style=\"text-align: right;\">\n",
       "      <th></th>\n",
       "      <th></th>\n",
       "      <th></th>\n",
       "      <th>sum</th>\n",
       "      <th>mean</th>\n",
       "      <th>median</th>\n",
       "      <th>max</th>\n",
       "      <th>min</th>\n",
       "      <th>stat_range</th>\n",
       "      <th>std</th>\n",
       "    </tr>\n",
       "    <tr>\n",
       "      <th>Category</th>\n",
       "      <th>Expense Type</th>\n",
       "      <th>Tax Year</th>\n",
       "      <th></th>\n",
       "      <th></th>\n",
       "      <th></th>\n",
       "      <th></th>\n",
       "      <th></th>\n",
       "      <th></th>\n",
       "      <th></th>\n",
       "    </tr>\n",
       "  </thead>\n",
       "  <tbody>\n",
       "    <tr>\n",
       "      <th rowspan=\"5\" valign=\"top\">Accommodation</th>\n",
       "      <th rowspan=\"4\" valign=\"top\">Accommodation Rent</th>\n",
       "      <th>2010/2011</th>\n",
       "      <td>15001.15</td>\n",
       "      <td>1071.51</td>\n",
       "      <td>1450.00</td>\n",
       "      <td>1450.00</td>\n",
       "      <td>202.00</td>\n",
       "      <td>1248.00</td>\n",
       "      <td>576.37</td>\n",
       "    </tr>\n",
       "    <tr>\n",
       "      <th>2011/2012</th>\n",
       "      <td>25004.94</td>\n",
       "      <td>1562.81</td>\n",
       "      <td>1860.21</td>\n",
       "      <td>2790.00</td>\n",
       "      <td>100.00</td>\n",
       "      <td>2690.00</td>\n",
       "      <td>741.90</td>\n",
       "    </tr>\n",
       "    <tr>\n",
       "      <th>2012/2013</th>\n",
       "      <td>22228.35</td>\n",
       "      <td>1852.36</td>\n",
       "      <td>1860.00</td>\n",
       "      <td>1860.00</td>\n",
       "      <td>1841.67</td>\n",
       "      <td>18.33</td>\n",
       "      <td>9.44</td>\n",
       "    </tr>\n",
       "    <tr>\n",
       "      <th>2013/2014</th>\n",
       "      <td>13866.68</td>\n",
       "      <td>1733.34</td>\n",
       "      <td>1733.34</td>\n",
       "      <td>1841.67</td>\n",
       "      <td>1625.00</td>\n",
       "      <td>216.67</td>\n",
       "      <td>115.81</td>\n",
       "    </tr>\n",
       "    <tr>\n",
       "      <th>Council Tax</th>\n",
       "      <th>2010/2011</th>\n",
       "      <td>181.00</td>\n",
       "      <td>181.00</td>\n",
       "      <td>181.00</td>\n",
       "      <td>181.00</td>\n",
       "      <td>181.00</td>\n",
       "      <td>0.00</td>\n",
       "      <td>nan</td>\n",
       "    </tr>\n",
       "    <tr>\n",
       "      <th>...</th>\n",
       "      <th>...</th>\n",
       "      <th>...</th>\n",
       "      <td>...</td>\n",
       "      <td>...</td>\n",
       "      <td>...</td>\n",
       "      <td>...</td>\n",
       "      <td>...</td>\n",
       "      <td>...</td>\n",
       "      <td>...</td>\n",
       "    </tr>\n",
       "    <tr>\n",
       "      <th rowspan=\"5\" valign=\"top\">Staffing</th>\n",
       "      <th rowspan=\"2\" valign=\"top\">Staff Training Costs</th>\n",
       "      <th>2015/2016</th>\n",
       "      <td>816.00</td>\n",
       "      <td>816.00</td>\n",
       "      <td>816.00</td>\n",
       "      <td>816.00</td>\n",
       "      <td>816.00</td>\n",
       "      <td>0.00</td>\n",
       "      <td>nan</td>\n",
       "    </tr>\n",
       "    <tr>\n",
       "      <th>2018/2019</th>\n",
       "      <td>420.00</td>\n",
       "      <td>420.00</td>\n",
       "      <td>420.00</td>\n",
       "      <td>420.00</td>\n",
       "      <td>420.00</td>\n",
       "      <td>0.00</td>\n",
       "      <td>nan</td>\n",
       "    </tr>\n",
       "    <tr>\n",
       "      <th>Training - staff</th>\n",
       "      <th>2019/2020</th>\n",
       "      <td>438.60</td>\n",
       "      <td>438.60</td>\n",
       "      <td>438.60</td>\n",
       "      <td>438.60</td>\n",
       "      <td>438.60</td>\n",
       "      <td>0.00</td>\n",
       "      <td>nan</td>\n",
       "    </tr>\n",
       "    <tr>\n",
       "      <th rowspan=\"2\" valign=\"top\">Volunteer - agreed arrangement costs</th>\n",
       "      <th>2018/2019</th>\n",
       "      <td>116.91</td>\n",
       "      <td>4.87</td>\n",
       "      <td>4.86</td>\n",
       "      <td>4.95</td>\n",
       "      <td>4.86</td>\n",
       "      <td>0.09</td>\n",
       "      <td>0.03</td>\n",
       "    </tr>\n",
       "    <tr>\n",
       "      <th>2019/2020</th>\n",
       "      <td>380.34</td>\n",
       "      <td>5.76</td>\n",
       "      <td>4.86</td>\n",
       "      <td>10.80</td>\n",
       "      <td>4.68</td>\n",
       "      <td>6.12</td>\n",
       "      <td>2.15</td>\n",
       "    </tr>\n",
       "  </tbody>\n",
       "</table>\n",
       "<p>334 rows × 7 columns</p>\n",
       "</div>"
      ],
      "text/plain": [
       "                                                                  sum    mean  \\\n",
       "Category      Expense Type                         Tax Year                     \n",
       "Accommodation Accommodation Rent                   2010/2011 15001.15 1071.51   \n",
       "                                                   2011/2012 25004.94 1562.81   \n",
       "                                                   2012/2013 22228.35 1852.36   \n",
       "                                                   2013/2014 13866.68 1733.34   \n",
       "              Council Tax                          2010/2011   181.00  181.00   \n",
       "...                                                               ...     ...   \n",
       "Staffing      Staff Training Costs                 2015/2016   816.00  816.00   \n",
       "                                                   2018/2019   420.00  420.00   \n",
       "              Training - staff                     2019/2020   438.60  438.60   \n",
       "              Volunteer - agreed arrangement costs 2018/2019   116.91    4.87   \n",
       "                                                   2019/2020   380.34    5.76   \n",
       "\n",
       "                                                              median     max  \\\n",
       "Category      Expense Type                         Tax Year                    \n",
       "Accommodation Accommodation Rent                   2010/2011 1450.00 1450.00   \n",
       "                                                   2011/2012 1860.21 2790.00   \n",
       "                                                   2012/2013 1860.00 1860.00   \n",
       "                                                   2013/2014 1733.34 1841.67   \n",
       "              Council Tax                          2010/2011  181.00  181.00   \n",
       "...                                                              ...     ...   \n",
       "Staffing      Staff Training Costs                 2015/2016  816.00  816.00   \n",
       "                                                   2018/2019  420.00  420.00   \n",
       "              Training - staff                     2019/2020  438.60  438.60   \n",
       "              Volunteer - agreed arrangement costs 2018/2019    4.86    4.95   \n",
       "                                                   2019/2020    4.86   10.80   \n",
       "\n",
       "                                                                 min  \\\n",
       "Category      Expense Type                         Tax Year            \n",
       "Accommodation Accommodation Rent                   2010/2011  202.00   \n",
       "                                                   2011/2012  100.00   \n",
       "                                                   2012/2013 1841.67   \n",
       "                                                   2013/2014 1625.00   \n",
       "              Council Tax                          2010/2011  181.00   \n",
       "...                                                              ...   \n",
       "Staffing      Staff Training Costs                 2015/2016  816.00   \n",
       "                                                   2018/2019  420.00   \n",
       "              Training - staff                     2019/2020  438.60   \n",
       "              Volunteer - agreed arrangement costs 2018/2019    4.86   \n",
       "                                                   2019/2020    4.68   \n",
       "\n",
       "                                                              stat_range  \\\n",
       "Category      Expense Type                         Tax Year                \n",
       "Accommodation Accommodation Rent                   2010/2011     1248.00   \n",
       "                                                   2011/2012     2690.00   \n",
       "                                                   2012/2013       18.33   \n",
       "                                                   2013/2014      216.67   \n",
       "              Council Tax                          2010/2011        0.00   \n",
       "...                                                                  ...   \n",
       "Staffing      Staff Training Costs                 2015/2016        0.00   \n",
       "                                                   2018/2019        0.00   \n",
       "              Training - staff                     2019/2020        0.00   \n",
       "              Volunteer - agreed arrangement costs 2018/2019        0.09   \n",
       "                                                   2019/2020        6.12   \n",
       "\n",
       "                                                                std  \n",
       "Category      Expense Type                         Tax Year          \n",
       "Accommodation Accommodation Rent                   2010/2011 576.37  \n",
       "                                                   2011/2012 741.90  \n",
       "                                                   2012/2013   9.44  \n",
       "                                                   2013/2014 115.81  \n",
       "              Council Tax                          2010/2011    nan  \n",
       "...                                                             ...  \n",
       "Staffing      Staff Training Costs                 2015/2016    nan  \n",
       "                                                   2018/2019    nan  \n",
       "              Training - staff                     2019/2020    nan  \n",
       "              Volunteer - agreed arrangement costs 2018/2019   0.03  \n",
       "                                                   2019/2020   2.15  \n",
       "\n",
       "[334 rows x 7 columns]"
      ]
     },
     "execution_count": 14,
     "metadata": {},
     "output_type": "execute_result"
    }
   ],
   "source": [
    "localMPYearlyDetail"
   ]
  },
  {
   "cell_type": "code",
   "execution_count": null,
   "metadata": {},
   "outputs": [],
   "source": []
  }
 ],
 "metadata": {
  "kernelspec": {
   "display_name": "Python 3",
   "language": "python",
   "name": "python3"
  },
  "language_info": {
   "codemirror_mode": {
    "name": "ipython",
    "version": 3
   },
   "file_extension": ".py",
   "mimetype": "text/x-python",
   "name": "python",
   "nbconvert_exporter": "python",
   "pygments_lexer": "ipython3",
   "version": "3.7.3"
  }
 },
 "nbformat": 4,
 "nbformat_minor": 4
}
