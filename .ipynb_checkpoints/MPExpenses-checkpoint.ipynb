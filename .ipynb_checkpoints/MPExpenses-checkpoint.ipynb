{
 "cells": [
  {
   "cell_type": "markdown",
   "metadata": {},
   "source": [
    "# MP Expenses Project\n",
    "by Darren Christie \n",
    "Created May 2020\n",
    "\n",
    "This is a project notebook that looks at MP Expenses.\n",
    "The notebook compares a single MP (which will probably be your local MP) with the expenses of all MPs."
   ]
  },
  {
   "cell_type": "markdown",
   "metadata": {},
   "source": [
    "## The Data\n",
    "Data has been obtained from the [IPSA website](https://www.theipsa.org.uk/mp-costs/annual-publication/) starting from 2010/2011 csv files were downloaded for individual claims for each reported year. The datasets were downloaded 6/6/2020.\n",
    "\n",
    "The following awk command was used to merge the individual csv files into a combined csv file with a single header.\n",
    "\n",
    "`awk '(NR == 1) || (FNR > 1)' Individual*.csv > combined_claims.csv`\n",
    "\n",
    "FNR represents the number of the processed record in a single file. NR represents it globally. Therefore the first line is accepted and the rest are ignored.\n",
    "I can not take credit for the above awk command. I got it from the StackExchange website (accessed on 14/5/2020) and was an answer provided by a Marek Grac.\n",
    "\n",
    "The resulting csv file just shy of 340MB. Too large to read in to Jupyter. So this csv file was imported into an sqlite3 database."
   ]
  },
  {
   "cell_type": "code",
   "execution_count": 1,
   "metadata": {},
   "outputs": [],
   "source": [
    "# our standard import for our projects\n",
    "from pandas import *\n",
    "# import sqlite3"
   ]
  },
  {
   "cell_type": "code",
   "execution_count": 2,
   "metadata": {},
   "outputs": [],
   "source": [
    "# tells Jupyter to display all charts inside this notebook, immediately after each call to plot()\n",
    "%matplotlib inline"
   ]
  },
  {
   "cell_type": "code",
   "execution_count": 3,
   "metadata": {
    "scrolled": false
   },
   "outputs": [
    {
     "name": "stderr",
     "output_type": "stream",
     "text": [
      "/usr/local/lib/python3.7/dist-packages/IPython/core/interactiveshell.py:3063: DtypeWarning: Columns (20) have mixed types.Specify dtype option on import or set low_memory=False.\n",
      "  interactivity=interactivity, compiler=compiler, result=result)\n"
     ]
    }
   ],
   "source": [
    "# read in our data file of MP Expenses\n",
    "mpIndExp = read_csv('Individual_claims_for_19_20.csv')\n",
    "# mpIndExp"
   ]
  },
  {
   "cell_type": "markdown",
   "metadata": {},
   "source": [
    "## Clean up data"
   ]
  },
  {
   "cell_type": "code",
   "execution_count": 4,
   "metadata": {},
   "outputs": [],
   "source": [
    "# remove apostrophe from column names\n",
    "mpIndExp.columns = mpIndExp.columns.str.replace(\"'\",\"\")"
   ]
  },
  {
   "cell_type": "code",
   "execution_count": 5,
   "metadata": {},
   "outputs": [],
   "source": [
    "# correct NaN by replacing with a sensible default value\n",
    "mpIndExp['Short Description'] = mpIndExp['Short Description'].fillna('')\n",
    "mpIndExp['Details'] = mpIndExp['Details'].fillna('')\n",
    "mpIndExp['Journey Type'] = mpIndExp['Journey Type'].fillna('')\n",
    "mpIndExp['Nights'] = mpIndExp['Nights'].fillna(0.0)\n",
    "mpIndExp['Mileage'] = mpIndExp['Mileage'].fillna(0.0)\n",
    "mpIndExp['Reason If Not Paid'] = mpIndExp['Reason If Not Paid'].fillna('')\n",
    "# mpIndExp[mpIndExp['Reason If Not Paid'].isnull()]"
   ]
  },
  {
   "cell_type": "code",
   "execution_count": 6,
   "metadata": {
    "scrolled": true
   },
   "outputs": [
    {
     "data": {
      "text/plain": [
       "Year                          object\n",
       "Date                  datetime64[ns]\n",
       "Claim No.                     object\n",
       "MPs Name                      object\n",
       "MPs Constituency              object\n",
       "Category                      object\n",
       "Expense Type                  object\n",
       "Short Description             object\n",
       "Details                       object\n",
       "Journey Type                  object\n",
       "From                          object\n",
       "To                            object\n",
       "Travel                        object\n",
       "Nights                       float64\n",
       "Mileage                      float64\n",
       "Amount Claimed               float64\n",
       "Amount Paid                  float64\n",
       "Amount Not Paid              float64\n",
       "Amount Repaid                float64\n",
       "Status                        object\n",
       "Reason If Not Paid            object\n",
       "Supply Month                 float64\n",
       "Supply Period                float64\n",
       "dtype: object"
      ]
     },
     "execution_count": 6,
     "metadata": {},
     "output_type": "execute_result"
    }
   ],
   "source": [
    "# correct column types\n",
    "mpIndExp['Date'] = to_datetime(mpIndExp['Date'])\n",
    "mpIndExp.dtypes"
   ]
  },
  {
   "cell_type": "code",
   "execution_count": 7,
   "metadata": {},
   "outputs": [],
   "source": [
    "# remove empty last row\n",
    "mpIndExp = mpIndExp.dropna(subset=['Year'])"
   ]
  },
  {
   "cell_type": "code",
   "execution_count": 8,
   "metadata": {},
   "outputs": [],
   "source": [
    "# set the Date column to our index\n",
    "mpIndExp.index = mpIndExp['Date']"
   ]
  },
  {
   "cell_type": "markdown",
   "metadata": {},
   "source": [
    "The MP that we are interested in investigating their expenses.\n",
    "If you are unsure who your MP is you can find out at [FindYourMP](https://members.parliament.uk/FindYourMP). Enter your post code and it will tell you who you MP is."
   ]
  },
  {
   "cell_type": "code",
   "execution_count": 23,
   "metadata": {},
   "outputs": [],
   "source": [
    "localMP = \"Stephen Barclay\""
   ]
  },
  {
   "cell_type": "markdown",
   "metadata": {},
   "source": [
    "Mean amount paid"
   ]
  },
  {
   "cell_type": "code",
   "execution_count": 10,
   "metadata": {},
   "outputs": [
    {
     "data": {
      "text/plain": [
       "136.14609154530368"
      ]
     },
     "execution_count": 10,
     "metadata": {},
     "output_type": "execute_result"
    }
   ],
   "source": [
    "amountPaid = mpIndExp['Amount Paid']\n",
    "meanPaidForYear = amountPaid.mean()"
   ]
  },
  {
   "cell_type": "markdown",
   "metadata": {},
   "source": [
    "Median amount paid"
   ]
  },
  {
   "cell_type": "code",
   "execution_count": 11,
   "metadata": {},
   "outputs": [
    {
     "data": {
      "text/plain": [
       "31.5"
      ]
     },
     "execution_count": 11,
     "metadata": {},
     "output_type": "execute_result"
    }
   ],
   "source": [
    "medianPaidForYear = amountPaid.median()"
   ]
  },
  {
   "cell_type": "markdown",
   "metadata": {},
   "source": [
    "Total amount paid"
   ]
  },
  {
   "cell_type": "code",
   "execution_count": 12,
   "metadata": {},
   "outputs": [
    {
     "data": {
      "text/plain": [
       "13209302.239999998"
      ]
     },
     "execution_count": 12,
     "metadata": {},
     "output_type": "execute_result"
    }
   ],
   "source": [
    "sumPaidForYear = amountPaid.sum()"
   ]
  },
  {
   "cell_type": "code",
   "execution_count": 13,
   "metadata": {},
   "outputs": [
    {
     "data": {
      "text/plain": [
       "20100.0"
      ]
     },
     "execution_count": 13,
     "metadata": {},
     "output_type": "execute_result"
    }
   ],
   "source": [
    "maxPaidForYear = amountPaid.max()"
   ]
  },
  {
   "cell_type": "code",
   "execution_count": 14,
   "metadata": {},
   "outputs": [
    {
     "data": {
      "text/plain": [
       "-2639.3"
      ]
     },
     "execution_count": 14,
     "metadata": {},
     "output_type": "execute_result"
    }
   ],
   "source": [
    "minPaidForYear = amountPaid.min()"
   ]
  },
  {
   "cell_type": "code",
   "execution_count": 15,
   "metadata": {},
   "outputs": [
    {
     "data": {
      "text/plain": [
       "22739.3"
      ]
     },
     "execution_count": 15,
     "metadata": {},
     "output_type": "execute_result"
    }
   ],
   "source": [
    "rangePaidForYear = amountPaid.max() - amountPaid.min()"
   ]
  },
  {
   "cell_type": "code",
   "execution_count": 24,
   "metadata": {},
   "outputs": [
    {
     "data": {
      "text/html": [
       "<div>\n",
       "<style scoped>\n",
       "    .dataframe tbody tr th:only-of-type {\n",
       "        vertical-align: middle;\n",
       "    }\n",
       "\n",
       "    .dataframe tbody tr th {\n",
       "        vertical-align: top;\n",
       "    }\n",
       "\n",
       "    .dataframe thead th {\n",
       "        text-align: right;\n",
       "    }\n",
       "</style>\n",
       "<table border=\"1\" class=\"dataframe\">\n",
       "  <thead>\n",
       "    <tr style=\"text-align: right;\">\n",
       "      <th></th>\n",
       "      <th>Year</th>\n",
       "      <th>Date</th>\n",
       "      <th>Claim No.</th>\n",
       "      <th>MPs Name</th>\n",
       "      <th>MPs Constituency</th>\n",
       "      <th>Category</th>\n",
       "      <th>Expense Type</th>\n",
       "      <th>Short Description</th>\n",
       "      <th>Details</th>\n",
       "      <th>Journey Type</th>\n",
       "      <th>...</th>\n",
       "      <th>Nights</th>\n",
       "      <th>Mileage</th>\n",
       "      <th>Amount Claimed</th>\n",
       "      <th>Amount Paid</th>\n",
       "      <th>Amount Not Paid</th>\n",
       "      <th>Amount Repaid</th>\n",
       "      <th>Status</th>\n",
       "      <th>Reason If Not Paid</th>\n",
       "      <th>Supply Month</th>\n",
       "      <th>Supply Period</th>\n",
       "    </tr>\n",
       "    <tr>\n",
       "      <th>Date</th>\n",
       "      <th></th>\n",
       "      <th></th>\n",
       "      <th></th>\n",
       "      <th></th>\n",
       "      <th></th>\n",
       "      <th></th>\n",
       "      <th></th>\n",
       "      <th></th>\n",
       "      <th></th>\n",
       "      <th></th>\n",
       "      <th></th>\n",
       "      <th></th>\n",
       "      <th></th>\n",
       "      <th></th>\n",
       "      <th></th>\n",
       "      <th></th>\n",
       "      <th></th>\n",
       "      <th></th>\n",
       "      <th></th>\n",
       "      <th></th>\n",
       "      <th></th>\n",
       "    </tr>\n",
       "  </thead>\n",
       "  <tbody>\n",
       "    <tr>\n",
       "      <th>2019-01-04</th>\n",
       "      <td>19_20</td>\n",
       "      <td>2019-01-04</td>\n",
       "      <td>60000464-1</td>\n",
       "      <td>Stephen Barclay</td>\n",
       "      <td>North East Cambridgeshire CC</td>\n",
       "      <td>Office Costs</td>\n",
       "      <td>Website hosting and design</td>\n",
       "      <td></td>\n",
       "      <td>www.stevebarclay.net build by This Is Fuller L...</td>\n",
       "      <td></td>\n",
       "      <td>...</td>\n",
       "      <td>0.0</td>\n",
       "      <td>0.0</td>\n",
       "      <td>1080.00</td>\n",
       "      <td>1080.00</td>\n",
       "      <td>0.0</td>\n",
       "      <td>0.0</td>\n",
       "      <td>Paid</td>\n",
       "      <td></td>\n",
       "      <td>0.0</td>\n",
       "      <td>0.0</td>\n",
       "    </tr>\n",
       "    <tr>\n",
       "      <th>2019-04-04</th>\n",
       "      <td>19_20</td>\n",
       "      <td>2019-04-04</td>\n",
       "      <td>60002917-7</td>\n",
       "      <td>Stephen Barclay</td>\n",
       "      <td>North East Cambridgeshire CC</td>\n",
       "      <td>Office Costs</td>\n",
       "      <td>Software &amp; applications</td>\n",
       "      <td></td>\n",
       "      <td>ADOBE  PR CREATIVE CLD</td>\n",
       "      <td></td>\n",
       "      <td>...</td>\n",
       "      <td>0.0</td>\n",
       "      <td>0.0</td>\n",
       "      <td>-30.34</td>\n",
       "      <td>-30.34</td>\n",
       "      <td>0.0</td>\n",
       "      <td>0.0</td>\n",
       "      <td>Paid</td>\n",
       "      <td></td>\n",
       "      <td>0.0</td>\n",
       "      <td>0.0</td>\n",
       "    </tr>\n",
       "    <tr>\n",
       "      <th>2019-04-04</th>\n",
       "      <td>19_20</td>\n",
       "      <td>2019-04-04</td>\n",
       "      <td>60002917-8</td>\n",
       "      <td>Stephen Barclay</td>\n",
       "      <td>North East Cambridgeshire CC</td>\n",
       "      <td>Accommodation</td>\n",
       "      <td>Hotel - London</td>\n",
       "      <td></td>\n",
       "      <td>[***]</td>\n",
       "      <td></td>\n",
       "      <td>...</td>\n",
       "      <td>0.0</td>\n",
       "      <td>0.0</td>\n",
       "      <td>525.00</td>\n",
       "      <td>525.00</td>\n",
       "      <td>0.0</td>\n",
       "      <td>0.0</td>\n",
       "      <td>Paid</td>\n",
       "      <td></td>\n",
       "      <td>0.0</td>\n",
       "      <td>0.0</td>\n",
       "    </tr>\n",
       "    <tr>\n",
       "      <th>2019-08-04</th>\n",
       "      <td>19_20</td>\n",
       "      <td>2019-08-04</td>\n",
       "      <td>60002318-2</td>\n",
       "      <td>Stephen Barclay</td>\n",
       "      <td>North East Cambridgeshire CC</td>\n",
       "      <td>MP Travel</td>\n",
       "      <td>Mileage - car</td>\n",
       "      <td></td>\n",
       "      <td></td>\n",
       "      <td>London-constituency MP &amp; Staff</td>\n",
       "      <td>...</td>\n",
       "      <td>0.0</td>\n",
       "      <td>28.0</td>\n",
       "      <td>12.60</td>\n",
       "      <td>12.60</td>\n",
       "      <td>0.0</td>\n",
       "      <td>0.0</td>\n",
       "      <td>Paid</td>\n",
       "      <td></td>\n",
       "      <td>0.0</td>\n",
       "      <td>0.0</td>\n",
       "    </tr>\n",
       "    <tr>\n",
       "      <th>2019-10-04</th>\n",
       "      <td>19_20</td>\n",
       "      <td>2019-10-04</td>\n",
       "      <td>60002318-3</td>\n",
       "      <td>Stephen Barclay</td>\n",
       "      <td>North East Cambridgeshire CC</td>\n",
       "      <td>MP Travel</td>\n",
       "      <td>Mileage - car</td>\n",
       "      <td></td>\n",
       "      <td></td>\n",
       "      <td>London-constituency MP &amp; Staff</td>\n",
       "      <td>...</td>\n",
       "      <td>0.0</td>\n",
       "      <td>28.0</td>\n",
       "      <td>12.60</td>\n",
       "      <td>12.60</td>\n",
       "      <td>0.0</td>\n",
       "      <td>0.0</td>\n",
       "      <td>Paid</td>\n",
       "      <td></td>\n",
       "      <td>0.0</td>\n",
       "      <td>0.0</td>\n",
       "    </tr>\n",
       "    <tr>\n",
       "      <th>...</th>\n",
       "      <td>...</td>\n",
       "      <td>...</td>\n",
       "      <td>...</td>\n",
       "      <td>...</td>\n",
       "      <td>...</td>\n",
       "      <td>...</td>\n",
       "      <td>...</td>\n",
       "      <td>...</td>\n",
       "      <td>...</td>\n",
       "      <td>...</td>\n",
       "      <td>...</td>\n",
       "      <td>...</td>\n",
       "      <td>...</td>\n",
       "      <td>...</td>\n",
       "      <td>...</td>\n",
       "      <td>...</td>\n",
       "      <td>...</td>\n",
       "      <td>...</td>\n",
       "      <td>...</td>\n",
       "      <td>...</td>\n",
       "      <td>...</td>\n",
       "    </tr>\n",
       "    <tr>\n",
       "      <th>2019-01-11</th>\n",
       "      <td>19_20</td>\n",
       "      <td>2019-01-11</td>\n",
       "      <td>4000569-30</td>\n",
       "      <td>Stephen Barclay</td>\n",
       "      <td>North East Cambridgeshire CC</td>\n",
       "      <td>Staff Travel</td>\n",
       "      <td>Rail</td>\n",
       "      <td></td>\n",
       "      <td>Chambers OCT 17-31</td>\n",
       "      <td>London-constituency MP &amp; Staff</td>\n",
       "      <td>...</td>\n",
       "      <td>0.0</td>\n",
       "      <td>0.0</td>\n",
       "      <td>53.10</td>\n",
       "      <td>53.10</td>\n",
       "      <td>0.0</td>\n",
       "      <td>0.0</td>\n",
       "      <td>Paid</td>\n",
       "      <td></td>\n",
       "      <td>0.0</td>\n",
       "      <td>0.0</td>\n",
       "    </tr>\n",
       "    <tr>\n",
       "      <th>2019-01-11</th>\n",
       "      <td>19_20</td>\n",
       "      <td>2019-01-11</td>\n",
       "      <td>4000569-29</td>\n",
       "      <td>Stephen Barclay</td>\n",
       "      <td>North East Cambridgeshire CC</td>\n",
       "      <td>Staff Travel</td>\n",
       "      <td>Rail</td>\n",
       "      <td></td>\n",
       "      <td>Chambers OCT 17-31</td>\n",
       "      <td>London-constituency MP &amp; Staff</td>\n",
       "      <td>...</td>\n",
       "      <td>0.0</td>\n",
       "      <td>0.0</td>\n",
       "      <td>69.10</td>\n",
       "      <td>69.10</td>\n",
       "      <td>0.0</td>\n",
       "      <td>0.0</td>\n",
       "      <td>Paid</td>\n",
       "      <td></td>\n",
       "      <td>0.0</td>\n",
       "      <td>0.0</td>\n",
       "    </tr>\n",
       "    <tr>\n",
       "      <th>2019-01-11</th>\n",
       "      <td>19_20</td>\n",
       "      <td>2019-01-11</td>\n",
       "      <td>4000569-28</td>\n",
       "      <td>Stephen Barclay</td>\n",
       "      <td>North East Cambridgeshire CC</td>\n",
       "      <td>Staff Travel</td>\n",
       "      <td>Rail</td>\n",
       "      <td></td>\n",
       "      <td>Chambers OCT 17-31</td>\n",
       "      <td>London-constituency MP &amp; Staff</td>\n",
       "      <td>...</td>\n",
       "      <td>0.0</td>\n",
       "      <td>0.0</td>\n",
       "      <td>69.10</td>\n",
       "      <td>69.10</td>\n",
       "      <td>0.0</td>\n",
       "      <td>0.0</td>\n",
       "      <td>Paid</td>\n",
       "      <td></td>\n",
       "      <td>0.0</td>\n",
       "      <td>0.0</td>\n",
       "    </tr>\n",
       "    <tr>\n",
       "      <th>2019-06-11</th>\n",
       "      <td>19_20</td>\n",
       "      <td>2019-06-11</td>\n",
       "      <td>4000612-30</td>\n",
       "      <td>Stephen Barclay</td>\n",
       "      <td>North East Cambridgeshire CC</td>\n",
       "      <td>Staff Travel</td>\n",
       "      <td>Rail</td>\n",
       "      <td></td>\n",
       "      <td>Chambers Nov 1st to 16 2019</td>\n",
       "      <td>London-constituency MP &amp; Staff</td>\n",
       "      <td>...</td>\n",
       "      <td>0.0</td>\n",
       "      <td>0.0</td>\n",
       "      <td>1.00</td>\n",
       "      <td>1.00</td>\n",
       "      <td>0.0</td>\n",
       "      <td>0.0</td>\n",
       "      <td>Paid</td>\n",
       "      <td></td>\n",
       "      <td>0.0</td>\n",
       "      <td>0.0</td>\n",
       "    </tr>\n",
       "    <tr>\n",
       "      <th>2019-06-11</th>\n",
       "      <td>19_20</td>\n",
       "      <td>2019-06-11</td>\n",
       "      <td>4000612-29</td>\n",
       "      <td>Stephen Barclay</td>\n",
       "      <td>North East Cambridgeshire CC</td>\n",
       "      <td>Staff Travel</td>\n",
       "      <td>Rail</td>\n",
       "      <td></td>\n",
       "      <td>Chambers Nov 1st to 16 2019</td>\n",
       "      <td>London-constituency MP &amp; Staff</td>\n",
       "      <td>...</td>\n",
       "      <td>0.0</td>\n",
       "      <td>0.0</td>\n",
       "      <td>69.10</td>\n",
       "      <td>69.10</td>\n",
       "      <td>0.0</td>\n",
       "      <td>0.0</td>\n",
       "      <td>Paid</td>\n",
       "      <td></td>\n",
       "      <td>0.0</td>\n",
       "      <td>0.0</td>\n",
       "    </tr>\n",
       "  </tbody>\n",
       "</table>\n",
       "<p>258 rows × 23 columns</p>\n",
       "</div>"
      ],
      "text/plain": [
       "             Year       Date   Claim No.         MPs Name  \\\n",
       "Date                                                        \n",
       "2019-01-04  19_20 2019-01-04  60000464-1  Stephen Barclay   \n",
       "2019-04-04  19_20 2019-04-04  60002917-7  Stephen Barclay   \n",
       "2019-04-04  19_20 2019-04-04  60002917-8  Stephen Barclay   \n",
       "2019-08-04  19_20 2019-08-04  60002318-2  Stephen Barclay   \n",
       "2019-10-04  19_20 2019-10-04  60002318-3  Stephen Barclay   \n",
       "...           ...        ...         ...              ...   \n",
       "2019-01-11  19_20 2019-01-11  4000569-30  Stephen Barclay   \n",
       "2019-01-11  19_20 2019-01-11  4000569-29  Stephen Barclay   \n",
       "2019-01-11  19_20 2019-01-11  4000569-28  Stephen Barclay   \n",
       "2019-06-11  19_20 2019-06-11  4000612-30  Stephen Barclay   \n",
       "2019-06-11  19_20 2019-06-11  4000612-29  Stephen Barclay   \n",
       "\n",
       "                        MPs Constituency       Category  \\\n",
       "Date                                                      \n",
       "2019-01-04  North East Cambridgeshire CC   Office Costs   \n",
       "2019-04-04  North East Cambridgeshire CC   Office Costs   \n",
       "2019-04-04  North East Cambridgeshire CC  Accommodation   \n",
       "2019-08-04  North East Cambridgeshire CC      MP Travel   \n",
       "2019-10-04  North East Cambridgeshire CC      MP Travel   \n",
       "...                                  ...            ...   \n",
       "2019-01-11  North East Cambridgeshire CC   Staff Travel   \n",
       "2019-01-11  North East Cambridgeshire CC   Staff Travel   \n",
       "2019-01-11  North East Cambridgeshire CC   Staff Travel   \n",
       "2019-06-11  North East Cambridgeshire CC   Staff Travel   \n",
       "2019-06-11  North East Cambridgeshire CC   Staff Travel   \n",
       "\n",
       "                          Expense Type Short Description  \\\n",
       "Date                                                       \n",
       "2019-01-04  Website hosting and design                     \n",
       "2019-04-04     Software & applications                     \n",
       "2019-04-04              Hotel - London                     \n",
       "2019-08-04               Mileage - car                     \n",
       "2019-10-04               Mileage - car                     \n",
       "...                                ...               ...   \n",
       "2019-01-11                        Rail                     \n",
       "2019-01-11                        Rail                     \n",
       "2019-01-11                        Rail                     \n",
       "2019-06-11                        Rail                     \n",
       "2019-06-11                        Rail                     \n",
       "\n",
       "                                                      Details  \\\n",
       "Date                                                            \n",
       "2019-01-04  www.stevebarclay.net build by This Is Fuller L...   \n",
       "2019-04-04                             ADOBE  PR CREATIVE CLD   \n",
       "2019-04-04                                              [***]   \n",
       "2019-08-04                                                      \n",
       "2019-10-04                                                      \n",
       "...                                                       ...   \n",
       "2019-01-11                                 Chambers OCT 17-31   \n",
       "2019-01-11                                 Chambers OCT 17-31   \n",
       "2019-01-11                                 Chambers OCT 17-31   \n",
       "2019-06-11                        Chambers Nov 1st to 16 2019   \n",
       "2019-06-11                        Chambers Nov 1st to 16 2019   \n",
       "\n",
       "                              Journey Type  ... Nights Mileage Amount Claimed  \\\n",
       "Date                                        ...                                 \n",
       "2019-01-04                                  ...    0.0     0.0        1080.00   \n",
       "2019-04-04                                  ...    0.0     0.0         -30.34   \n",
       "2019-04-04                                  ...    0.0     0.0         525.00   \n",
       "2019-08-04  London-constituency MP & Staff  ...    0.0    28.0          12.60   \n",
       "2019-10-04  London-constituency MP & Staff  ...    0.0    28.0          12.60   \n",
       "...                                    ...  ...    ...     ...            ...   \n",
       "2019-01-11  London-constituency MP & Staff  ...    0.0     0.0          53.10   \n",
       "2019-01-11  London-constituency MP & Staff  ...    0.0     0.0          69.10   \n",
       "2019-01-11  London-constituency MP & Staff  ...    0.0     0.0          69.10   \n",
       "2019-06-11  London-constituency MP & Staff  ...    0.0     0.0           1.00   \n",
       "2019-06-11  London-constituency MP & Staff  ...    0.0     0.0          69.10   \n",
       "\n",
       "            Amount Paid  Amount Not Paid  Amount Repaid  Status  \\\n",
       "Date                                                              \n",
       "2019-01-04      1080.00              0.0            0.0    Paid   \n",
       "2019-04-04       -30.34              0.0            0.0    Paid   \n",
       "2019-04-04       525.00              0.0            0.0    Paid   \n",
       "2019-08-04        12.60              0.0            0.0    Paid   \n",
       "2019-10-04        12.60              0.0            0.0    Paid   \n",
       "...                 ...              ...            ...     ...   \n",
       "2019-01-11        53.10              0.0            0.0    Paid   \n",
       "2019-01-11        69.10              0.0            0.0    Paid   \n",
       "2019-01-11        69.10              0.0            0.0    Paid   \n",
       "2019-06-11         1.00              0.0            0.0    Paid   \n",
       "2019-06-11        69.10              0.0            0.0    Paid   \n",
       "\n",
       "            Reason If Not Paid  Supply Month Supply Period  \n",
       "Date                                                        \n",
       "2019-01-04                               0.0           0.0  \n",
       "2019-04-04                               0.0           0.0  \n",
       "2019-04-04                               0.0           0.0  \n",
       "2019-08-04                               0.0           0.0  \n",
       "2019-10-04                               0.0           0.0  \n",
       "...                        ...           ...           ...  \n",
       "2019-01-11                               0.0           0.0  \n",
       "2019-01-11                               0.0           0.0  \n",
       "2019-01-11                               0.0           0.0  \n",
       "2019-06-11                               0.0           0.0  \n",
       "2019-06-11                               0.0           0.0  \n",
       "\n",
       "[258 rows x 23 columns]"
      ]
     },
     "execution_count": 24,
     "metadata": {},
     "output_type": "execute_result"
    }
   ],
   "source": [
    "mpIndExp[mpIndExp['MPs Name'] == localMP]\n",
    "#mpIndExp[(mpIndExp['MPs Name'] >= 'St') & (mpIndExp['MPs Name'] <= 'T')]"
   ]
  },
  {
   "cell_type": "code",
   "execution_count": null,
   "metadata": {},
   "outputs": [],
   "source": []
  }
 ],
 "metadata": {
  "kernelspec": {
   "display_name": "Python 3",
   "language": "python",
   "name": "python3"
  },
  "language_info": {
   "codemirror_mode": {
    "name": "ipython",
    "version": 3
   },
   "file_extension": ".py",
   "mimetype": "text/x-python",
   "name": "python",
   "nbconvert_exporter": "python",
   "pygments_lexer": "ipython3",
   "version": "3.7.3"
  }
 },
 "nbformat": 4,
 "nbformat_minor": 4
}
