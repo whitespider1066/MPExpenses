{
 "cells": [
  {
   "cell_type": "markdown",
   "metadata": {},
   "source": [
    "# MP Expenses Project Web Scrapper\n",
    "by Darren Christie\n",
    "Created June 2020\n",
    "\n",
    "This is a project notebook that supports the main MP Expenses Project. This notebook web scrapes the MP salary data off the IPSA web site."
   ]
  },
  {
   "cell_type": "code",
   "execution_count": 148,
   "metadata": {},
   "outputs": [],
   "source": [
    "# our imports for this notebook\n",
    "import warnings\n",
    "warnings.simplefilter('ignore', FutureWarning)\n",
    "\n",
    "import requests\n",
    "from bs4 import BeautifulSoup\n",
    "\n",
    "from pandas import *"
   ]
  },
  {
   "cell_type": "markdown",
   "metadata": {},
   "source": [
    "## The Data\n",
    "The [salary data] (https://www.theipsa.org.uk/mp-costs/mps-pay-and-pensions/) has been obtained by scraping the IPSA web page. The data is then saved as a csv file in the data/processed folder ready to be picked up and used by the main notebook."
   ]
  },
  {
   "cell_type": "code",
   "execution_count": 149,
   "metadata": {},
   "outputs": [],
   "source": [
    "SALARYURL = 'https://www.theipsa.org.uk/mp-costs/mps-pay-and-pensions/'\n",
    "STARTTAXYEAR = 2010\n",
    "ENDTAXYEAR = 2020"
   ]
  },
  {
   "cell_type": "code",
   "execution_count": 150,
   "metadata": {},
   "outputs": [],
   "source": [
    "# read in the web page from IPSA containing the salary data\n",
    "r = requests.get(SALARYURL)\n",
    "#print(r.text)\n",
    "htmlContents = r.text\n",
    "htmlSoup = BeautifulSoup(htmlContents,\"html.parser\")"
   ]
  },
  {
   "cell_type": "markdown",
   "metadata": {},
   "source": [
    "## Process"
   ]
  },
  {
   "cell_type": "code",
   "execution_count": 151,
   "metadata": {},
   "outputs": [],
   "source": [
    "# at the time of writing the first table on the page is the table we are interested in\n",
    "firstTable = htmlSoup.find('table')"
   ]
  },
  {
   "cell_type": "code",
   "execution_count": 152,
   "metadata": {},
   "outputs": [],
   "source": [
    "# fetch all the rows from the table, but skip the first one as that is the header which we are not interested in\n",
    "rows = firstTable.findAll('tr')[1:]"
   ]
  },
  {
   "cell_type": "code",
   "execution_count": 153,
   "metadata": {},
   "outputs": [],
   "source": [
    "currentYear = STARTTAXYEAR"
   ]
  },
  {
   "cell_type": "code",
   "execution_count": 154,
   "metadata": {},
   "outputs": [],
   "source": [
    "mpSalary = DataFrame(columns=(['Tax Year','Salary']))"
   ]
  },
  {
   "cell_type": "code",
   "execution_count": 155,
   "metadata": {},
   "outputs": [],
   "source": [
    "for row in rows:\n",
    "    tempIndex = str(currentYear)+'/'+str(currentYear+1)\n",
    "    salaryCol = row.findAll('td')[1:] # this skips the year column of the table, we are calculating this\n",
    "    salary = salaryCol[0].text.strip() # strips any leading or trailing spaces\n",
    "    mpSalary = mpSalary.append({'Tax Year': tempIndex, 'Salary': salary}, ignore_index=True)\n",
    "    currentYear += 1"
   ]
  },
  {
   "cell_type": "code",
   "execution_count": 156,
   "metadata": {},
   "outputs": [
    {
     "name": "stdout",
     "output_type": "stream",
     "text": [
      "     Tax Year    Salary\n",
      "0   2010/2011  ​£65,738\n",
      "1   2011/2012   £65,738\n",
      "2   2012/2013   £65,738\n",
      "3   2013/2014  ​£66,396\n",
      "4   2014/2015  ​£67,060\n",
      "5   2015/2016  ​£74,000\n",
      "6   2016/2017  ​£74,962\n",
      "7   2017/2018   £76,011\n",
      "8   2018/2019   £77,379\n",
      "9   2019/2020   £79,468\n",
      "10  2020/2021   £81,932\n"
     ]
    }
   ],
   "source": [
    "print(mpSalary)"
   ]
  },
  {
   "cell_type": "code",
   "execution_count": 157,
   "metadata": {},
   "outputs": [],
   "source": [
    "# save the dataframe as a csv file\n",
    "mpSalary.to_csv('data/processed/mpsalarydata.csv', index=False)"
   ]
  }
 ],
 "metadata": {
  "kernelspec": {
   "display_name": "Python 3",
   "language": "python",
   "name": "python3"
  },
  "language_info": {
   "codemirror_mode": {
    "name": "ipython",
    "version": 3
   },
   "file_extension": ".py",
   "mimetype": "text/x-python",
   "name": "python",
   "nbconvert_exporter": "python",
   "pygments_lexer": "ipython3",
   "version": "3.7.3"
  }
 },
 "nbformat": 4,
 "nbformat_minor": 4
}
